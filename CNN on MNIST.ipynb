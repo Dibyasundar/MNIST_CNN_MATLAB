{
 "cells": [
  {
   "cell_type": "code",
   "execution_count": 1,
   "metadata": {},
   "outputs": [],
   "source": [
    "clear;clc;close all;"
   ]
  },
  {
   "cell_type": "code",
   "execution_count": 2,
   "metadata": {},
   "outputs": [
    {
     "name": "stdout",
     "output_type": "stream",
     "text": [
      "\n",
      "ans =\n",
      "\n",
      "          28          28           1       60000\n",
      "\n",
      "\n",
      "ans =\n",
      "\n",
      "          28          28           1       10000\n",
      "\n"
     ]
    }
   ],
   "source": [
    "%% Read tarining and training\n",
    "if ~exist('MNIST_train_img.mat','file')\n",
    "    images=loadMNISTImages('train-images.idx3-ubyte');\n",
    "    lb=loadMNISTLabels('train-labels.idx1-ubyte');\n",
    "    train_images=reshape(images,[28,28,1,size(images,2)]);\n",
    "    train_labels=lb';\n",
    "    save('MNIST_train_img.mat','train_images');\n",
    "    save('MNIST_train_label.mat','train_labels');\n",
    "    size(train_images)\n",
    "end\n",
    "\n",
    "\n",
    "if ~exist('MNIST_test_img.mat','file')\n",
    "    images=loadMNISTImages('t10k-images.idx3-ubyte');\n",
    "    lb=loadMNISTLabels('t10k-labels.idx1-ubyte');\n",
    "    test_images=reshape(images,[28,28,1,size(images,2)]);\n",
    "    test_labels=lb';\n",
    "    save('MNIST_test_img.mat','test_images');\n",
    "    save('MNIST_test_label.mat','test_labels');\n",
    "    size(test_images)\n",
    "end\n",
    "\n"
   ]
  },
  {
   "cell_type": "code",
   "execution_count": 3,
   "metadata": {},
   "outputs": [],
   "source": [
    "clear;clc;\n",
    "load('MNIST_train_img.mat');\n",
    "load('MNIST_train_label.mat');\n",
    "[m,n,p,q]=size(train_images);\n",
    "u=unique(train_labels);\n",
    "for i=1:size(u,2)\n",
    "    cu{i}=strcat('c',num2str(u(i)));\n",
    "end\n",
    "train_target=categorical(train_labels,u,cu);"
   ]
  },
  {
   "cell_type": "markdown",
   "metadata": {},
   "source": [
    "## Designing the following network\n",
    "![](dd.png)"
   ]
  },
  {
   "cell_type": "code",
   "execution_count": 4,
   "metadata": {},
   "outputs": [],
   "source": [
    "    s=0;\n",
    "    if ~exist('network.mat','file')\n",
    "        layers=[imageInputLayer([m,n,p])...\n",
    "        convolution2dLayer(7,100)...\n",
    "        reluLayer...\n",
    "        maxPooling2dLayer(2)...\n",
    "        convolution2dLayer(5,200)...\n",
    "        maxPooling2dLayer(2)...\n",
    "        fullyConnectedLayer(100)...\n",
    "        reluLayer...\n",
    "        fullyConnectedLayer(size(u,2))...\n",
    "        softmaxLayer...\n",
    "        classificationLayer]';\n",
    "      s=1;  \n",
    "    else\n",
    "        load('network.mat');\n",
    "        layers=net_pop.Layers;\n",
    "    end"
   ]
  },
  {
   "cell_type": "code",
   "execution_count": 5,
   "metadata": {},
   "outputs": [
    {
     "name": "stdout",
     "output_type": "stream",
     "text": [
      "Initializing image normalization.\n",
      "|========================================================================================|\n",
      "|  Epoch  |  Iteration  |  Time Elapsed  |  Mini-batch  |  Mini-batch  |  Base Learning  |\n",
      "|         |             |   (hh:mm:ss)   |   Accuracy   |     Loss     |      Rate       |\n",
      "|========================================================================================|\n",
      "|       1 |           1 |       00:00:01 |        3.50% |       2.3026 |          0.0100 |\n",
      "|       1 |          10 |       00:00:06 |       18.50% |       2.3019 |          0.0100 |\n",
      "|       1 |          20 |       00:00:10 |       10.50% |       2.2992 |          0.0100 |\n",
      "|       1 |          30 |       00:00:14 |       27.50% |       2.2962 |          0.0100 |\n",
      "|       1 |          40 |       00:00:18 |       19.00% |       2.2954 |          0.0100 |\n",
      "|       1 |          50 |       00:00:22 |       17.00% |       2.2940 |          0.0100 |\n",
      "|       1 |          60 |       00:00:26 |       23.00% |       2.2841 |          0.0100 |\n",
      "|       1 |          70 |       00:00:30 |       46.00% |       2.2494 |          0.0100 |\n",
      "|       1 |          80 |       00:00:34 |       34.00% |       2.1982 |          0.0100 |\n",
      "|       1 |          90 |       00:00:38 |       39.00% |       1.9623 |          0.0100 |\n",
      "|       1 |         100 |       00:00:42 |       73.00% |       1.1154 |          0.0100 |\n",
      "|       1 |         110 |       00:00:46 |       83.00% |       0.5311 |          0.0100 |\n",
      "|       1 |         120 |       00:00:51 |       88.50% |       0.4013 |          0.0100 |\n",
      "|       1 |         130 |       00:00:55 |       89.00% |       0.3567 |          0.0100 |\n",
      "|       1 |         140 |       00:00:59 |       91.50% |       0.3299 |          0.0100 |\n",
      "|       1 |         150 |       00:01:03 |       90.50% |       0.3467 |          0.0100 |\n",
      "|       1 |         160 |       00:01:07 |       94.00% |       0.1930 |          0.0100 |\n",
      "|       1 |         170 |       00:01:11 |       93.50% |       0.2472 |          0.0100 |\n",
      "|       1 |         180 |       00:01:15 |       93.00% |       0.2183 |          0.0100 |\n",
      "|       1 |         190 |       00:01:19 |       93.50% |       0.3082 |          0.0100 |\n",
      "|       1 |         200 |       00:01:23 |       91.50% |       0.2223 |          0.0100 |\n",
      "|       1 |         210 |       00:01:27 |       93.50% |       0.1990 |          0.0100 |\n",
      "|       1 |         220 |       00:01:31 |       94.00% |       0.1788 |          0.0100 |\n",
      "|       1 |         230 |       00:01:35 |       94.00% |       0.2734 |          0.0100 |\n",
      "|       1 |         240 |       00:01:39 |       94.00% |       0.1782 |          0.0100 |\n",
      "|       1 |         250 |       00:01:43 |       95.50% |       0.1358 |          0.0100 |\n",
      "|       1 |         260 |       00:01:48 |       94.50% |       0.2493 |          0.0100 |\n",
      "|       1 |         270 |       00:01:52 |       93.50% |       0.2179 |          0.0100 |\n",
      "|       1 |         280 |       00:01:56 |       97.50% |       0.1245 |          0.0100 |\n",
      "|       1 |         290 |       00:02:00 |       98.00% |       0.0824 |          0.0100 |\n",
      "|       1 |         300 |       00:02:04 |       97.50% |       0.0980 |          0.0100 |\n",
      "|       2 |         310 |       00:02:08 |       96.00% |       0.1240 |          0.0100 |\n",
      "|       2 |         320 |       00:02:12 |       95.50% |       0.1265 |          0.0100 |\n",
      "|       2 |         330 |       00:02:16 |       95.00% |       0.1897 |          0.0100 |\n",
      "|       2 |         340 |       00:02:21 |       96.00% |       0.1336 |          0.0100 |\n",
      "|       2 |         350 |       00:02:25 |       97.50% |       0.0972 |          0.0100 |\n",
      "|       2 |         360 |       00:02:29 |       96.50% |       0.1163 |          0.0100 |\n",
      "|       2 |         370 |       00:02:33 |       98.00% |       0.0553 |          0.0100 |\n",
      "|       2 |         380 |       00:02:37 |       97.00% |       0.1085 |          0.0100 |\n",
      "|       2 |         390 |       00:02:41 |       98.50% |       0.0807 |          0.0100 |\n",
      "|       2 |         400 |       00:02:45 |       98.50% |       0.0661 |          0.0100 |\n",
      "|       2 |         410 |       00:02:50 |       98.50% |       0.0482 |          0.0100 |\n",
      "|       2 |         420 |       00:02:54 |       98.50% |       0.0682 |          0.0100 |\n",
      "|       2 |         430 |       00:02:58 |       98.00% |       0.0728 |          0.0100 |\n",
      "|       2 |         440 |       00:03:02 |       98.00% |       0.0960 |          0.0100 |\n",
      "|       2 |         450 |       00:03:06 |       98.00% |       0.0547 |          0.0100 |\n",
      "|       2 |         460 |       00:03:10 |       98.50% |       0.0385 |          0.0100 |\n",
      "|       2 |         470 |       00:03:15 |       98.50% |       0.0585 |          0.0100 |\n",
      "|       2 |         480 |       00:03:19 |       98.50% |       0.0463 |          0.0100 |\n",
      "|       2 |         490 |       00:03:23 |       97.00% |       0.1521 |          0.0100 |\n",
      "|       2 |         500 |       00:03:27 |       97.00% |       0.0932 |          0.0100 |\n",
      "|       2 |         510 |       00:03:31 |       97.50% |       0.0686 |          0.0100 |\n",
      "|       2 |         520 |       00:03:36 |       98.50% |       0.0609 |          0.0100 |\n",
      "|       2 |         530 |       00:03:40 |       96.00% |       0.0914 |          0.0100 |\n",
      "|       2 |         540 |       00:03:44 |       98.00% |       0.0620 |          0.0100 |\n",
      "|       2 |         550 |       00:03:48 |       97.00% |       0.0852 |          0.0100 |\n",
      "|       2 |         560 |       00:03:52 |       97.00% |       0.1406 |          0.0100 |\n",
      "|       2 |         570 |       00:03:56 |       96.50% |       0.0820 |          0.0100 |\n",
      "|       2 |         580 |       00:04:00 |       96.50% |       0.0925 |          0.0100 |\n",
      "|       2 |         590 |       00:04:04 |       99.00% |       0.0371 |          0.0100 |\n",
      "|       2 |         600 |       00:04:09 |       98.00% |       0.0418 |          0.0100 |\n",
      "|========================================================================================|\n"
     ]
    }
   ],
   "source": [
    "    if s==1\n",
    "        ep=2;%input('enter number of epoch :');\n",
    "                options=trainingOptions('sgdm','MiniBatchSize',200,...\n",
    "                'InitialLearnRate',0.01,...\n",
    "                    'MaxEpochs',ep,'ExecutionEnvironment','gpu',...\n",
    "                    'Shuffle','once','VerboseFrequency',10,'Verbose',true,...\n",
    "                    'L2Regularization',...\n",
    "                    0.001,'Plots','training-progress');\n",
    "                [net_pop,v]=trainNetwork(train_images,train_target,layers,options);\n",
    "                save('network.mat','net_pop','v');\n",
    "    else\n",
    "        a=1;%input('Do you want to train press 1 to yes:');\n",
    "            if a==1\n",
    "                ep=2;%input('enter number of epoch :')\n",
    "                options=trainingOptions('sgdm','MiniBatchSize',200,...\n",
    "                'InitialLearnRate',...\n",
    "                0.0001,'MaxEpochs',ep,'ExecutionEnvironment','gpu',...\n",
    "                    'VerboseFrequency',10,'Verbose',true,'L2Regularization',...\n",
    "                    0.001,'Plots','training-progress');\n",
    "                [net_pop,v]=trainNetwork(train_images,train_target,layers,options);\n",
    "                delete('network.mat')\n",
    "                pause(0.001)\n",
    "                save('network.mat','net_pop','v');\n",
    "                pause(0.1)\n",
    "            end\n",
    "    end"
   ]
  },
  {
   "cell_type": "markdown",
   "metadata": {},
   "source": [
    "![](cd.png)"
   ]
  },
  {
   "cell_type": "code",
   "execution_count": 6,
   "metadata": {},
   "outputs": [
    {
     "name": "stdout",
     "output_type": "stream",
     "text": [
      "starting the testing phase ......\n",
      "Accuracy is :98.14\n"
     ]
    }
   ],
   "source": [
    "%%testing \n",
    "clear;\n",
    "disp('starting the testing phase ......')\n",
    "load('network.mat')\n",
    "load('MNIST_test_img.mat');\n",
    "load('MNIST_test_label.mat');\n",
    "[m,n,p,q]=size(test_images);\n",
    "u=unique(test_labels);\n",
    "for i=1:size(u,2)\n",
    "    cu{i}=strcat('c',num2str(u(i)));\n",
    "end\n",
    "test_target=categorical(test_labels,u,cu);\n",
    "p=predict(net_pop,test_images);\n",
    "[v,p]=max(p');\n",
    "acc=(sum(p-1==test_labels)/size(test_labels,2))*100;\n",
    "disp(strcat('Accuracy is :',char({' '}),num2str(acc)))"
   ]
  },
  {
   "cell_type": "code",
   "execution_count": null,
   "metadata": {},
   "outputs": [],
   "source": []
  },
  {
   "cell_type": "code",
   "execution_count": null,
   "metadata": {},
   "outputs": [],
   "source": []
  },
  {
   "cell_type": "code",
   "execution_count": null,
   "metadata": {},
   "outputs": [],
   "source": []
  }
 ],
 "metadata": {
  "kernelspec": {
   "display_name": "Matlab",
   "language": "matlab",
   "name": "matlab"
  },
  "language_info": {
   "codemirror_mode": "octave",
   "file_extension": ".m",
   "help_links": [
    {
     "text": "MetaKernel Magics",
     "url": "https://github.com/calysto/metakernel/blob/master/metakernel/magics/README.md"
    }
   ],
   "mimetype": "text/x-octave",
   "name": "matlab",
   "version": "0.15.2"
  }
 },
 "nbformat": 4,
 "nbformat_minor": 2
}
